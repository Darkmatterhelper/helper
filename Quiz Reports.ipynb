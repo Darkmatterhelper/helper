{
 "cells": [
  {
   "cell_type": "markdown",
   "metadata": {},
   "source": [
    "# Quiz Reports\n",
    "\n",
    "## Summary\n",
    "\n",
    "**Quiz Reports** is a Jupyter Notebook and Python application that pulls quiz data from [Canvas LMS](https://github.com/instructure/canvas-lms) to create PDF documents containing student answers to *essay questions*. Application requires the following user inputs:\n",
    "\n",
    "* Canvas Instance\n",
    "* Active Canvas Access Token\n",
    "* Course ID\n",
    "* Quiz ID\n",
    "\n",
    "\n",
    "## Output\n",
    "\n",
    "### `.zip` file containing a PDF per student *(who submitted the quiz)*\n",
    "\n",
    "* **ID** (randomly-generated, anonymous student identifier)\n",
    "* **Course name** (as it appears on Canvas)\n",
    "* **Question text** (as it appears on Canvas)\n",
    "* **Student's response** (all submitted text -- does not preserving formatting)\n",
    "\n",
    "> NOTE: all of the above will repeat for as many questions as are in the quiz (on seperate pages)\n",
    "\n",
    "### `.csv` detailing\n",
    "\n",
    "* **Student Name** (as it appears on Canvas)\n",
    "* **Student ID** (UBC student ID)\n",
    "* **Canvas ID** (Canvas LMS ID)\n",
    "* **Anonymous ID** (as it appears in the output PDFs)\n",
    "\n",
    "> NOTE: this table contains sensitive information and should **NOT** be distributed or uploaded anywhere\n",
    "\n",
    "## Important Caveats\n",
    "\n",
    "* Only works for “Classic Quizzes” on Canvas (not New Quizzes)\n",
    "* Formatting in the student response is **not** preserved\n",
    "* Will only output questions of type “Essay Question” on Canvas\n",
    "* Tool is designed for a *Final Exam* use case and therefore, **should not be run on Quizzes that allow more than one attempt.** Doing so may cause unexpected and/or unreliable behaviour."
   ]
  },
  {
   "cell_type": "markdown",
   "metadata": {},
   "source": [
    "## 1. Initialization\n",
    "Run the following block of code to initialize python modules."
   ]
  },
  {
   "cell_type": "code",
   "execution_count": null,
   "metadata": {},
   "outputs": [],
   "source": [
    "import os\n",
    "import sys\n",
    "sys.path.insert(0, os.path.abspath('./src'));"
   ]
  },
  {
   "cell_type": "markdown",
   "metadata": {},
   "source": [
    "## 2. Get Quiz Reports PDFs\n",
    "Run the block of code below. Input token, canvas instance, course id and quiz id when prompted.\n",
    "\n",
    "\n",
    "#### Canvas Instance URLS *(copy and paste from list when prompted):*\n",
    "* https://canvas.ubc.ca\n",
    "* https://ubc.test.instructure.com\n",
    "* https://ubcsandbox.instructure.com"
   ]
  },
  {
   "cell_type": "code",
   "execution_count": null,
   "metadata": {},
   "outputs": [],
   "source": [
    "from quiz_reports import main\n",
    "main()"
   ]
  }
 ],
 "metadata": {
  "kernelspec": {
   "display_name": "Python 3",
   "language": "python",
   "name": "python3"
  },
  "language_info": {
   "codemirror_mode": {
    "name": "ipython",
    "version": 3
   },
   "file_extension": ".py",
   "mimetype": "text/x-python",
   "name": "python",
   "nbconvert_exporter": "python",
   "pygments_lexer": "ipython3",
   "version": "3.6.10"
  }
 },
 "nbformat": 4,
 "nbformat_minor": 4
}
