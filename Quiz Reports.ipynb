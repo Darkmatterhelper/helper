{
 "cells": [
  {
   "cell_type": "markdown",
   "metadata": {},
   "source": [
    "# Quiz Reports\n",
    "\n",
    "## Summary\n",
    "\n",
    "**Quiz Reports** is a Jupyter Notebook and Python script that pulls quiz data from [Canvas LMS](https://github.com/instructure/canvas-lms) to create PDF's containing student answers to *essay questions*. Given a valid access token, course id and quiz id, the tool outputs:\n",
    "\n",
    "### `.zip` file containing a PDF per student detailing\n",
    "\n",
    "* Id (randomly-generated, anonymous student identifier)\n",
    "\n",
    "* Question text (as it appears on Canvas)\n",
    "\n",
    "* The student's response (as it was submitted by the student)\n",
    "\n",
    "> NOTE: question text and student reponse will repeat for as many questions as are in the quiz\n",
    "\n",
    "### `.csv` detailing\n",
    "\n",
    "* Student name (as it appears on Canvas)\n",
    "\n",
    "* Student id (UBC student id)\n",
    "\n",
    "* Anonymous id (as it appears in the output PDF's)\n",
    "\n",
    "> NOTE: this table contains sensitive information and should **NOT** be distributed or uploaded anywhere"
   ]
  },
  {
   "cell_type": "markdown",
   "metadata": {},
   "source": [
    "## 1: Initialization\n",
    "Run the following block of code to initialize python modules."
   ]
  },
  {
   "cell_type": "code",
   "execution_count": null,
   "metadata": {},
   "outputs": [],
   "source": [
    "import os\n",
    "import sys\n",
    "sys.path.insert(0, os.path.abspath('./src'));"
   ]
  },
  {
   "cell_type": "markdown",
   "metadata": {},
   "source": [
    "## 2. GET QUIZ REPORTS DATA\n",
    "Run the block of code below. Input token, canvas instance, course id and quiz id when prompted.\n",
    "\n",
    "\n",
    "#### Canvas Instance URLS *(copy and paste from list when prompted):*\n",
    "* https://canvas.ubc.ca\n",
    "* https://ubc.test.instructure.com\n",
    "* https://ubcsandbox.instructure.com"
   ]
  },
  {
   "cell_type": "code",
   "execution_count": null,
   "metadata": {},
   "outputs": [],
   "source": [
    "from quiz_reports import main\n",
    "main()"
   ]
  }
 ],
 "metadata": {
  "kernelspec": {
   "display_name": "Python 3",
   "language": "python",
   "name": "python3"
  },
  "language_info": {
   "codemirror_mode": {
    "name": "ipython",
    "version": 3
   },
   "file_extension": ".py",
   "mimetype": "text/x-python",
   "name": "python",
   "nbconvert_exporter": "python",
   "pygments_lexer": "ipython3",
   "version": "3.6.10"
  }
 },
 "nbformat": 4,
 "nbformat_minor": 4
}
